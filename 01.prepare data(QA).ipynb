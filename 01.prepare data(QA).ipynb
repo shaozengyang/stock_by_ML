{
 "cells": [
  {
   "cell_type": "code",
   "execution_count": 3,
   "metadata": {},
   "outputs": [
    {
     "name": "stdout",
     "output_type": "stream",
     "text": [
      "mongodb://localhost:27017\n",
      "Thu Jul 22 13:37:45 2021\n"
     ]
    }
   ],
   "source": [
    "import QUANTAXIS as QA\n",
    "import sys\n",
    "sys.path.append('/root/workspace/QUANTAXIS/src')\n",
    "from stock_head import *\n",
    "from utils import *\n",
    "from model import BoostModel, XGBoostRegression\n",
    "import warnings\n",
    "warnings.filterwarnings(\"ignore\", category=UserWarning)\n",
    "from QUANTAXIS.QAUtil.QASetting import *\n",
    "print(DEFAULT_DB_URI)\n",
    "## for qlib's data\n",
    "data_dir = '/root/workspace/data/'\n",
    "if not os.path.exists(data_dir):\n",
    "    os.mkdir(data_dir, mode=0o777)\n",
    "\n",
    "os.environ['TZ'] = 'Asia/Shanghai'\n",
    "print(time.asctime(time.localtime(time.time())))\n",
    "start_date = QA.QA_util_get_next_trade_date('2010-01-01')\n",
    "end_date = QA.QA_util_get_pre_trade_date(datetime.date.today().strftime(\"%Y-%m-%d\"))\n",
    "test_date = '2017-01-26' ## test dataset start on this day\n",
    "## industry standard SW_l1 changed on this day\n",
    "industry_change_date = QA.QA_util_get_real_date('2014-02-21')\n",
    "\n",
    "date_dict = QA.QAUtil.QA_util_getBetweenMonth(start_date, end_date)\n",
    "monthend_date = [ QA.QA_util_format_date2str(item[1]) for item in list(date_dict.values())]\n",
    "real_date_list = [x.strftime('%Y-%m-%d') for x in list(pd.date_range(start=start_date, end=end_date))]\n",
    "trade_date_list = trade_date_sse[trade_date_sse.index(start_date) : trade_date_sse.index(end_date)]\n",
    "month_end_trade_date = [item if QA.QA_util_if_trade(item) else QA.QA_util_get_pre_trade_date(item, 1) for item in monthend_date]\n",
    "# print(month_end_trade_date[-15:])\n",
    "\n",
    "## model & period\n",
    "ranks = 3 ## use for classfication\n",
    "model_list = ['xgboost']\n",
    "period_list = [6, 12, 36, 60]\n",
    "model_period = [ i+str(j) for j in period_list for i in model_list ]\n",
    "\n",
    "# test_date = '2019-01-31'"
   ]
  },
  {
   "cell_type": "markdown",
   "metadata": {},
   "source": [
    "#  1.数据清理，去除停牌、ST、新股， 增加industry及weight"
   ]
  },
  {
   "cell_type": "code",
   "execution_count": 2,
   "metadata": {
    "scrolled": true
   },
   "outputs": [
    {
     "name": "stdout",
     "output_type": "stream",
     "text": [
      "(371622, 3)\n"
     ]
    }
   ],
   "source": [
    "code_list = QA.QA_fetch_stock_list_adv().index.tolist()\n",
    "info_df = QA.QA_fetch_stock_day_adv(code=code_list, start=start_date, end=end_date).to_qfq().resample('M').close.unstack()\n",
    "\n",
    "## 去除停牌未交易\n",
    "info_df = info_df[info_df.index.isin(month_end_trade_date)].pct_change(fill_method=None).shift(-1)\n",
    "info_df.iloc[-1, :].fillna(0, inplace=True)\n",
    "info_df = info_df.stack().rename('rtn').reset_index().drop_duplicates(subset=['date', 'code'])\n",
    "\n",
    "print(info_df.shape)"
   ]
  },
  {
   "cell_type": "code",
   "execution_count": 3,
   "metadata": {
    "scrolled": true
   },
   "outputs": [
    {
     "name": "stdout",
     "output_type": "stream",
     "text": [
      "(22978, 1)\n",
      "info_df.shape: (353071, 4)\n"
     ]
    }
   ],
   "source": [
    "## 做标识：ST、新股（90天之内上市）\n",
    "to_drop_df = pd.DataFrame()\n",
    "for date in info_df.date.unique():\n",
    "    new_df = QA_fetch_new_stocks(date).assign(reason='new')\n",
    "    ST_df = QA_fetch_ST_stocks(cursor_date=date).assign(reason='ST')\n",
    "    to_drop_df = to_drop_df.append(new_df[['reason']]).append(ST_df[['reason']])\n",
    "\n",
    "print(to_drop_df.shape)\n",
    "## 去除以上做好标识的股票\n",
    "info_df = pd.merge(info_df, to_drop_df.reset_index(), \n",
    "                   left_on=['date', 'code'], right_on=['date', 'code'], how='left')\n",
    "info_df = info_df[ ~info_df['reason'].notnull() ]\n",
    "print(f\"info_df.shape: {info_df.shape}\")"
   ]
  },
  {
   "cell_type": "code",
   "execution_count": 4,
   "metadata": {
    "tags": []
   },
   "outputs": [
    {
     "data": {
      "text/plain": [
       "(352944, 6)"
      ]
     },
     "execution_count": 4,
     "metadata": {},
     "output_type": "execute_result"
    }
   ],
   "source": [
    "## 读取industry信息，并增加weight. 只取sw_l1的数据\n",
    "industry_df = pd.DataFrame()\n",
    "for date in info_df.date.unique():\n",
    "    tmp_1 = QA_fetch_industry_by_stock(date)\n",
    "    if(tmp_1.empty):\n",
    "        print(date)\n",
    "        break\n",
    "    tmp_1 = tmp_1[((tmp_1['src'] == 'sw' ) & (tmp_1['level'] == 'l1'))]    \n",
    "    tmp_2 = QA_fetch_index_weights(date)[['index_code', 'weight']]  \n",
    "    industry_df = industry_df.append(pd.merge(tmp_1[['industry_code']], tmp_2, \n",
    "                                              left_index=True, right_index=True, how='left'))\n",
    "    \n",
    "info_df = pd.merge(info_df[['date', 'code', 'rtn']], industry_df.reset_index(),\n",
    "                   left_on=['date', 'code'], right_on=['date', 'code'], how='inner'\n",
    "                  ).dropna(subset=['industry_code'])\n",
    "# info_df = info_df[~info_df.index.duplicated(keep='first')]\n",
    "info_df.shape"
   ]
  },
  {
   "cell_type": "code",
   "execution_count": 5,
   "metadata": {},
   "outputs": [
    {
     "data": {
      "text/plain": [
       "(352944, 8)"
      ]
     },
     "execution_count": 5,
     "metadata": {},
     "output_type": "execute_result"
    }
   ],
   "source": [
    "## 增加股票所占指数weight\n",
    "weight_300 = info_df[info_df['index_code']=='000300'].groupby(['date', 'industry_code'])['weight'].sum().rename('industry_of_300')\n",
    "weight_500 = info_df[info_df['index_code']=='000905'].groupby(['date', 'industry_code'])['weight'].sum().rename('industry_of_500')\n",
    "info_df = pd.merge(info_df, weight_300, \n",
    "                   left_on=['date', 'industry_code'], right_on=['date', 'industry_code'], how='left')\n",
    "info_df = pd.merge(info_df, weight_500, \n",
    "                   left_on=['date', 'industry_code'], right_on=['date', 'industry_code'], how='left')\n",
    "info_df.shape"
   ]
  },
  {
   "cell_type": "code",
   "execution_count": 6,
   "metadata": {},
   "outputs": [
    {
     "data": {
      "text/html": [
       "<div>\n",
       "<style scoped>\n",
       "    .dataframe tbody tr th:only-of-type {\n",
       "        vertical-align: middle;\n",
       "    }\n",
       "\n",
       "    .dataframe tbody tr th {\n",
       "        vertical-align: top;\n",
       "    }\n",
       "\n",
       "    .dataframe thead th {\n",
       "        text-align: right;\n",
       "    }\n",
       "</style>\n",
       "<table border=\"1\" class=\"dataframe\">\n",
       "  <thead>\n",
       "    <tr style=\"text-align: right;\">\n",
       "      <th></th>\n",
       "      <th>date</th>\n",
       "      <th>code</th>\n",
       "      <th>rtn</th>\n",
       "      <th>industry_code</th>\n",
       "      <th>index_code</th>\n",
       "      <th>weight</th>\n",
       "      <th>industry_of_300</th>\n",
       "      <th>industry_of_500</th>\n",
       "    </tr>\n",
       "  </thead>\n",
       "  <tbody>\n",
       "    <tr>\n",
       "      <th>352939</th>\n",
       "      <td>2021-06-30</td>\n",
       "      <td>688777</td>\n",
       "      <td>0.0</td>\n",
       "      <td>801730</td>\n",
       "      <td>NaN</td>\n",
       "      <td>NaN</td>\n",
       "      <td>4.055</td>\n",
       "      <td>6.494</td>\n",
       "    </tr>\n",
       "    <tr>\n",
       "      <th>352940</th>\n",
       "      <td>2021-06-30</td>\n",
       "      <td>688788</td>\n",
       "      <td>0.0</td>\n",
       "      <td>801740</td>\n",
       "      <td>NaN</td>\n",
       "      <td>NaN</td>\n",
       "      <td>1.279</td>\n",
       "      <td>3.666</td>\n",
       "    </tr>\n",
       "    <tr>\n",
       "      <th>352941</th>\n",
       "      <td>2021-06-30</td>\n",
       "      <td>688819</td>\n",
       "      <td>0.0</td>\n",
       "      <td>801730</td>\n",
       "      <td>NaN</td>\n",
       "      <td>NaN</td>\n",
       "      <td>4.055</td>\n",
       "      <td>6.494</td>\n",
       "    </tr>\n",
       "    <tr>\n",
       "      <th>352942</th>\n",
       "      <td>2021-06-30</td>\n",
       "      <td>688981</td>\n",
       "      <td>0.0</td>\n",
       "      <td>801080</td>\n",
       "      <td>NaN</td>\n",
       "      <td>NaN</td>\n",
       "      <td>8.661</td>\n",
       "      <td>7.573</td>\n",
       "    </tr>\n",
       "    <tr>\n",
       "      <th>352943</th>\n",
       "      <td>2021-06-30</td>\n",
       "      <td>689009</td>\n",
       "      <td>0.0</td>\n",
       "      <td>801880</td>\n",
       "      <td>NaN</td>\n",
       "      <td>NaN</td>\n",
       "      <td>2.828</td>\n",
       "      <td>3.849</td>\n",
       "    </tr>\n",
       "  </tbody>\n",
       "</table>\n",
       "</div>"
      ],
      "text/plain": [
       "             date    code  rtn industry_code index_code  weight  industry_of_300  industry_of_500\n",
       "352939 2021-06-30  688777  0.0        801730        NaN     NaN            4.055            6.494\n",
       "352940 2021-06-30  688788  0.0        801740        NaN     NaN            1.279            3.666\n",
       "352941 2021-06-30  688819  0.0        801730        NaN     NaN            4.055            6.494\n",
       "352942 2021-06-30  688981  0.0        801080        NaN     NaN            8.661            7.573\n",
       "352943 2021-06-30  689009  0.0        801880        NaN     NaN            2.828            3.849"
      ]
     },
     "execution_count": 6,
     "metadata": {},
     "output_type": "execute_result"
    }
   ],
   "source": [
    "info_df.to_csv(data_dir+'info_df_1.csv', encoding='gbk')\n",
    "info_df.tail(5)"
   ]
  },
  {
   "cell_type": "markdown",
   "metadata": {},
   "source": [
    "## 2. 处理factor数据"
   ]
  },
  {
   "cell_type": "code",
   "execution_count": 7,
   "metadata": {},
   "outputs": [
    {
     "data": {
      "text/plain": [
       "(352944, 4)"
      ]
     },
     "execution_count": 7,
     "metadata": {},
     "output_type": "execute_result"
    }
   ],
   "source": [
    "info_df = pd.read_csv(data_dir+'info_df_1.csv', encoding='gbk', dtype={'code':str}, index_col=0, parse_dates=['date'])\n",
    "info_df = info_df[['date', 'code', 'industry_code', 'rtn']]\n",
    "info_df.shape"
   ]
  },
  {
   "cell_type": "code",
   "execution_count": 8,
   "metadata": {},
   "outputs": [
    {
     "name": "stdout",
     "output_type": "stream",
     "text": [
      "(328775, 244)\n"
     ]
    }
   ],
   "source": [
    "## load factor from database. these data come from uqer\n",
    "factor_df = QA_fetch_stock_factor(code = info_df['code'].unique().tolist())\n",
    "factor_df = pd.merge(info_df[['date', 'code', 'industry_code']], factor_df, \n",
    "                     left_on=['date', 'code'], right_on=['date', 'code'], how='inner').drop_duplicates(subset=['date', 'code'])\n",
    "factor_df = factor_df.drop(columns=['industry_code', 'BondsPayableToAsset', 'CTOP'])\n",
    "f_cols1 = list(set(factor_df.columns.tolist()) - set(['date', 'code']))\n",
    "# f_cols1 = list(set(feature_cols) - set(['BondsPayableToAsset', 'CTOP', 'CashToCurrentLiability', 'CurrentAssetsTRate', 'ROA5', 'HSIGMA', 'MLEV', 'CurrentRatio', 'CTOP', 'BLEV', 'ROE5']))\n",
    "# f_cols1 = list(set(factor_df.columns.tolist()) - set(['date', 'code']) - set(['BondsPayableToAsset', 'CTOP']) )\n",
    "print(factor_df.shape)"
   ]
  },
  {
   "cell_type": "code",
   "execution_count": 9,
   "metadata": {},
   "outputs": [
    {
     "name": "stdout",
     "output_type": "stream",
     "text": [
      "(350035, 152)\n"
     ]
    }
   ],
   "source": [
    "# ## from MS qlib's data\n",
    "alpha = pd.read_csv(data_dir+'alpha.csv', dtype={\"code\":str}, encoding='gbk', parse_dates=['date'])\n",
    "alpha = alpha.drop(columns=['VWAP0', 'LABEL0', 'MA10','MA20','MA5',  'MA60', 'VSTD10', 'VSTD20', 'ROC20'])\n",
    "f_cols2 = list(set(alpha.columns.tolist()) - set(['date', 'code']))\n",
    "# f_cols2 = list(set(alpha.columns.tolist()) - set(['OPEN0','HIGH0','LOW0','VWAP0','VSUMD60', 'QTLU10']))\n",
    "print(alpha.shape)"
   ]
  },
  {
   "cell_type": "code",
   "execution_count": 10,
   "metadata": {},
   "outputs": [
    {
     "name": "stdout",
     "output_type": "stream",
     "text": [
      "(305314, 396)\n"
     ]
    }
   ],
   "source": [
    "df = pd.merge(info_df, factor_df, left_on=['date', 'code'], right_on=['date', 'code'], how='inner')\n",
    "df = pd.merge(df, alpha, left_on=['date', 'code'], right_on=['date', 'code'], how='inner')\n",
    "df = df.set_index(['date', 'code'])\n",
    "df = df[~df.index.duplicated(keep='first')].reset_index()\n",
    "# f_cols = f_cols1\n",
    "f_cols = f_cols1+f_cols2\n",
    "print(df.shape)"
   ]
  },
  {
   "cell_type": "code",
   "execution_count": 11,
   "metadata": {},
   "outputs": [
    {
     "name": "stdout",
     "output_type": "stream",
     "text": [
      "    DAREC  DASREV   DAREV    GREC  FSALESG  FEARNG  SFY12P   FY12P  GSREV    REC\n",
      "0  136289  117288  115509  108825   105199  103632  103566  102005  99118  69729\n",
      "na_cols: Index(['DAREC', 'DASREV', 'DAREV', 'GREC', 'FSALESG', 'FEARNG', 'SFY12P', 'FY12P', 'GSREV', 'REC', 'GREV', 'ETP5', 'CTP5', 'DVRAT', 'DDNBT', 'MLEV', 'ROE5', 'CMRA', 'ROA5'], dtype='object')\n",
      "   date  STD60  RSQR30  RSQR20  RSQR10  RSQR5  BETA60  BETA30  BETA20  BETA10\n",
      "0     0      0       0       0       0      0       0       0       0       0\n",
      "na_cols: Index([], dtype='object')\n",
      "(304771, 377) 373\n"
     ]
    }
   ],
   "source": [
    "## fill NA with industry's mean value\n",
    "to_drop = calc_NAs(df, threshold=0.05)\n",
    "f_cols = list(set(f_cols) - set(to_drop) )\n",
    "df = df.drop(columns = to_drop)\n",
    "\n",
    "df = df.fillna(df.groupby(['date', 'industry_code']).transform('mean'))\n",
    "df = df.groupby('code').apply(lambda x: x.fillna(method='ffill')).dropna(axis=0)\n",
    "na_col = calc_NAs(df)\n",
    "print(df.shape, len(f_cols))"
   ]
  },
  {
   "cell_type": "code",
   "execution_count": 12,
   "metadata": {},
   "outputs": [
    {
     "name": "stdout",
     "output_type": "stream",
     "text": [
      "(304771, 267) 263\n"
     ]
    }
   ],
   "source": [
    "## drop correlation bigger than threshold\n",
    "corr_col = corr_feature_detect(df[f_cols], threshold=0.95)\n",
    "\n",
    "f_cols = list(set(f_cols)- set(corr_col))\n",
    "df = df.drop(columns=corr_col)\n",
    "print(df.shape, len(f_cols))"
   ]
  },
  {
   "cell_type": "code",
   "execution_count": 13,
   "metadata": {},
   "outputs": [
    {
     "name": "stdout",
     "output_type": "stream",
     "text": [
      "(304771, 268)\n"
     ]
    }
   ],
   "source": [
    "## insert market value from database\n",
    "## 插入市值数据， 原数据为qfq数据，应为不复权数据。此处修改了QAAnalysis_block中的market_value方法中的market_data方法，去掉to_qfq()\n",
    "# factor = df[['date', 'code', 'industry_code']].pivot_table(\n",
    "#     index = 'date', columns = 'code', values = 'industry_code')\n",
    "# mv_df = QA_fetch_factor_weight(factor).drop('factor', axis=1).reset_index().rename(\n",
    "#     columns={'datetime':'date', 'weight':'mv'})\n",
    "# stock_adj = QA_fetch_stock_adj(code=mv_df['code'].unique().tolist(), \n",
    "#                                start=month_end_trade_date[0], end=month_end_trade_date[-1]).reset_index(drop=True)\n",
    "\n",
    "# mv_df = pd.merge(mv_df, stock_adj, left_on=['date', 'code'], right_on=['date', 'code'], how='left')\n",
    "# mv_df['adj'].fillna(1, inplace=True)\n",
    "# mv_df['mv'] = mv_df['mv'] / mv_df['adj']\n",
    "\n",
    "mv_df = QA_fetch_stock_fundamental(code = info_df['code'].unique().tolist())['market_cap'].reset_index()\n",
    "mv_df = mv_df.rename(columns={'market_cap': 'mv'})\n",
    "df = pd.merge(df, mv_df[['date', 'code', 'mv']], left_on=['date', 'code'], right_on=['date', 'code'], how='inner').sort_index()\n",
    "print(df.shape)"
   ]
  },
  {
   "cell_type": "code",
   "execution_count": 14,
   "metadata": {
    "scrolled": true
   },
   "outputs": [
    {
     "name": "stdout",
     "output_type": "stream",
     "text": [
      "[datetime.date(2010, 1, 29)]\n",
      "df[cols].shape: (1362, 263), x.shape: (1362, 24)\n",
      "[datetime.date(2010, 3, 31)]\n",
      "df[cols].shape: (1381, 263), x.shape: (1381, 24)\n",
      "[datetime.date(2010, 4, 30)]\n",
      "df[cols].shape: (1402, 263), x.shape: (1402, 24)\n",
      "[datetime.date(2010, 5, 31)]\n",
      "df[cols].shape: (1420, 263), x.shape: (1420, 24)\n",
      "[datetime.date(2010, 6, 30)]\n",
      "df[cols].shape: (1463, 263), x.shape: (1463, 24)\n",
      "[datetime.date(2010, 7, 30)]\n",
      "df[cols].shape: (1505, 263), x.shape: (1505, 24)\n",
      "[datetime.date(2010, 8, 31)]\n",
      "df[cols].shape: (1542, 263), x.shape: (1542, 24)\n",
      "[datetime.date(2010, 9, 30)]\n",
      "df[cols].shape: (1574, 263), x.shape: (1574, 24)\n",
      "[datetime.date(2010, 10, 29)]\n",
      "df[cols].shape: (1592, 263), x.shape: (1592, 24)\n",
      "[datetime.date(2010, 11, 30)]\n",
      "df[cols].shape: (1611, 263), x.shape: (1611, 24)\n",
      "[datetime.date(2010, 12, 31)]\n",
      "df[cols].shape: (1632, 263), x.shape: (1632, 24)\n",
      "[datetime.date(2011, 1, 31)]\n",
      "df[cols].shape: (1633, 263), x.shape: (1633, 24)\n",
      "[datetime.date(2011, 2, 28)]\n",
      "df[cols].shape: (1645, 263), x.shape: (1645, 24)\n",
      "[datetime.date(2011, 3, 31)]\n",
      "df[cols].shape: (1662, 263), x.shape: (1662, 24)\n",
      "[datetime.date(2011, 4, 29)]\n",
      "df[cols].shape: (1707, 263), x.shape: (1707, 24)\n",
      "[datetime.date(2011, 5, 31)]\n",
      "df[cols].shape: (1741, 263), x.shape: (1741, 24)\n",
      "[datetime.date(2011, 6, 30)]\n",
      "df[cols].shape: (1768, 263), x.shape: (1768, 24)\n",
      "[datetime.date(2011, 7, 29)]\n",
      "df[cols].shape: (1813, 263), x.shape: (1813, 24)\n",
      "[datetime.date(2011, 8, 31)]\n",
      "df[cols].shape: (1841, 263), x.shape: (1841, 24)\n",
      "[datetime.date(2011, 9, 30)]\n",
      "df[cols].shape: (1880, 263), x.shape: (1880, 24)\n",
      "[datetime.date(2011, 10, 31)]\n",
      "df[cols].shape: (1891, 263), x.shape: (1891, 24)\n",
      "[datetime.date(2011, 11, 30)]\n",
      "df[cols].shape: (1904, 263), x.shape: (1904, 24)\n",
      "[datetime.date(2011, 12, 30)]\n",
      "df[cols].shape: (1941, 263), x.shape: (1941, 24)\n",
      "[datetime.date(2012, 1, 31)]\n",
      "df[cols].shape: (1969, 263), x.shape: (1969, 24)\n",
      "[datetime.date(2012, 2, 29)]\n",
      "df[cols].shape: (1955, 263), x.shape: (1955, 24)\n",
      "[datetime.date(2012, 3, 30)]\n",
      "df[cols].shape: (1908, 263), x.shape: (1908, 24)\n",
      "[datetime.date(2012, 4, 27)]\n",
      "df[cols].shape: (1930, 263), x.shape: (1930, 24)\n",
      "[datetime.date(2012, 5, 31)]\n",
      "df[cols].shape: (1985, 263), x.shape: (1985, 24)\n",
      "[datetime.date(2012, 6, 29)]\n",
      "df[cols].shape: (2072, 263), x.shape: (2072, 24)\n",
      "[datetime.date(2012, 7, 31)]\n",
      "df[cols].shape: (2137, 263), x.shape: (2137, 24)\n",
      "[datetime.date(2012, 8, 31)]\n",
      "df[cols].shape: (2177, 263), x.shape: (2177, 24)\n",
      "[datetime.date(2012, 9, 28)]\n",
      "df[cols].shape: (2208, 263), x.shape: (2208, 24)\n",
      "[datetime.date(2012, 10, 31)]\n",
      "df[cols].shape: (2226, 263), x.shape: (2226, 24)\n",
      "[datetime.date(2012, 11, 30)]\n",
      "df[cols].shape: (2231, 263), x.shape: (2231, 24)\n",
      "[datetime.date(2012, 12, 31)]\n",
      "df[cols].shape: (2244, 263), x.shape: (2244, 24)\n",
      "[datetime.date(2013, 1, 31)]\n",
      "df[cols].shape: (2249, 263), x.shape: (2249, 24)\n",
      "[datetime.date(2013, 2, 28)]\n",
      "df[cols].shape: (2240, 263), x.shape: (2240, 24)\n",
      "[datetime.date(2013, 3, 29)]\n",
      "df[cols].shape: (2235, 263), x.shape: (2235, 24)\n",
      "[datetime.date(2013, 4, 26)]\n",
      "df[cols].shape: (2231, 263), x.shape: (2231, 24)\n",
      "[datetime.date(2013, 5, 31)]\n",
      "df[cols].shape: (2235, 263), x.shape: (2235, 24)\n",
      "[datetime.date(2013, 6, 28)]\n",
      "df[cols].shape: (2216, 263), x.shape: (2216, 24)\n",
      "[datetime.date(2013, 7, 31)]\n",
      "df[cols].shape: (2213, 263), x.shape: (2213, 24)\n",
      "[datetime.date(2013, 8, 30)]\n",
      "df[cols].shape: (2218, 263), x.shape: (2218, 24)\n",
      "[datetime.date(2013, 9, 30)]\n",
      "df[cols].shape: (2207, 263), x.shape: (2207, 24)\n",
      "[datetime.date(2013, 10, 31)]\n",
      "df[cols].shape: (2192, 263), x.shape: (2192, 24)\n",
      "[datetime.date(2013, 11, 29)]\n",
      "df[cols].shape: (2191, 263), x.shape: (2191, 24)\n",
      "[datetime.date(2013, 12, 31)]\n",
      "df[cols].shape: (2210, 263), x.shape: (2210, 24)\n",
      "[datetime.date(2014, 1, 30)]\n",
      "df[cols].shape: (2218, 263), x.shape: (2218, 24)\n",
      "[datetime.date(2014, 2, 28)]\n",
      "df[cols].shape: (2155, 263), x.shape: (2155, 29)\n",
      "[datetime.date(2014, 3, 31)]\n",
      "df[cols].shape: (2125, 263), x.shape: (2125, 29)\n",
      "[datetime.date(2014, 4, 30)]\n",
      "df[cols].shape: (2158, 263), x.shape: (2158, 29)\n",
      "[datetime.date(2014, 5, 30)]\n",
      "df[cols].shape: (2139, 263), x.shape: (2139, 29)\n",
      "[datetime.date(2014, 6, 30)]\n",
      "df[cols].shape: (2136, 263), x.shape: (2136, 29)\n",
      "[datetime.date(2014, 7, 31)]\n",
      "df[cols].shape: (2127, 263), x.shape: (2127, 29)\n",
      "[datetime.date(2014, 8, 29)]\n",
      "df[cols].shape: (2108, 263), x.shape: (2108, 29)\n",
      "[datetime.date(2014, 9, 30)]\n",
      "df[cols].shape: (2143, 263), x.shape: (2143, 29)\n",
      "[datetime.date(2014, 10, 31)]\n",
      "df[cols].shape: (2119, 263), x.shape: (2119, 29)\n",
      "[datetime.date(2014, 11, 28)]\n",
      "df[cols].shape: (2085, 263), x.shape: (2085, 29)\n",
      "[datetime.date(2014, 12, 31)]\n",
      "df[cols].shape: (2120, 263), x.shape: (2120, 29)\n",
      "[datetime.date(2015, 1, 30)]\n",
      "df[cols].shape: (2159, 263), x.shape: (2159, 29)\n",
      "[datetime.date(2015, 2, 27)]\n",
      "df[cols].shape: (2095, 263), x.shape: (2095, 29)\n",
      "[datetime.date(2015, 3, 31)]\n",
      "df[cols].shape: (2052, 263), x.shape: (2052, 29)\n",
      "[datetime.date(2015, 4, 30)]\n",
      "df[cols].shape: (2022, 263), x.shape: (2022, 29)\n",
      "[datetime.date(2015, 5, 29)]\n",
      "df[cols].shape: (1960, 263), x.shape: (1960, 29)\n",
      "[datetime.date(2015, 6, 30)]\n",
      "df[cols].shape: (1965, 263), x.shape: (1965, 29)\n",
      "[datetime.date(2015, 7, 31)]\n",
      "df[cols].shape: (1979, 263), x.shape: (1979, 29)\n",
      "[datetime.date(2015, 8, 31)]\n",
      "df[cols].shape: (2089, 263), x.shape: (2089, 29)\n",
      "[datetime.date(2015, 9, 30)]\n",
      "df[cols].shape: (2185, 263), x.shape: (2185, 29)\n",
      "[datetime.date(2015, 10, 30)]\n",
      "df[cols].shape: (2233, 263), x.shape: (2233, 29)\n",
      "[datetime.date(2015, 11, 30)]\n",
      "df[cols].shape: (2300, 263), x.shape: (2300, 29)\n",
      "[datetime.date(2015, 12, 31)]\n",
      "df[cols].shape: (2343, 263), x.shape: (2343, 29)\n",
      "[datetime.date(2016, 1, 29)]\n",
      "df[cols].shape: (2340, 263), x.shape: (2340, 29)\n",
      "[datetime.date(2016, 3, 31)]\n",
      "df[cols].shape: (2327, 263), x.shape: (2327, 29)\n",
      "[datetime.date(2016, 4, 29)]\n",
      "df[cols].shape: (2332, 263), x.shape: (2332, 29)\n",
      "[datetime.date(2016, 5, 31)]\n",
      "df[cols].shape: (2364, 263), x.shape: (2364, 29)\n",
      "[datetime.date(2016, 6, 30)]\n",
      "df[cols].shape: (2408, 263), x.shape: (2408, 29)\n",
      "[datetime.date(2016, 7, 29)]\n",
      "df[cols].shape: (2454, 263), x.shape: (2454, 29)\n",
      "[datetime.date(2016, 8, 31)]\n",
      "df[cols].shape: (2466, 263), x.shape: (2466, 29)\n",
      "[datetime.date(2016, 9, 30)]\n",
      "df[cols].shape: (2497, 263), x.shape: (2497, 29)\n",
      "[datetime.date(2016, 10, 31)]\n",
      "df[cols].shape: (2508, 263), x.shape: (2508, 29)\n",
      "[datetime.date(2016, 11, 30)]\n",
      "df[cols].shape: (2536, 263), x.shape: (2536, 29)\n",
      "[datetime.date(2016, 12, 30)]\n",
      "df[cols].shape: (2577, 263), x.shape: (2577, 29)\n",
      "[datetime.date(2017, 1, 26)]\n",
      "df[cols].shape: (2588, 263), x.shape: (2588, 29)\n",
      "[datetime.date(2017, 2, 28)]\n",
      "df[cols].shape: (2605, 263), x.shape: (2605, 29)\n",
      "[datetime.date(2017, 3, 31)]\n",
      "df[cols].shape: (2641, 263), x.shape: (2641, 29)\n",
      "[datetime.date(2017, 4, 28)]\n",
      "df[cols].shape: (2674, 263), x.shape: (2674, 29)\n",
      "[datetime.date(2017, 5, 31)]\n",
      "df[cols].shape: (2712, 263), x.shape: (2712, 29)\n",
      "[datetime.date(2017, 6, 30)]\n",
      "df[cols].shape: (2744, 263), x.shape: (2744, 29)\n",
      "[datetime.date(2017, 7, 31)]\n",
      "df[cols].shape: (2815, 263), x.shape: (2815, 29)\n",
      "[datetime.date(2017, 8, 31)]\n",
      "df[cols].shape: (2877, 263), x.shape: (2877, 29)\n",
      "[datetime.date(2017, 9, 29)]\n",
      "df[cols].shape: (2934, 263), x.shape: (2934, 29)\n",
      "[datetime.date(2017, 10, 31)]\n",
      "df[cols].shape: (2945, 263), x.shape: (2945, 29)\n",
      "[datetime.date(2017, 11, 30)]\n",
      "df[cols].shape: (2977, 263), x.shape: (2977, 29)\n",
      "[datetime.date(2017, 12, 29)]\n",
      "df[cols].shape: (2998, 263), x.shape: (2998, 29)\n",
      "[datetime.date(2018, 1, 31)]\n",
      "df[cols].shape: (2998, 263), x.shape: (2998, 29)\n",
      "[datetime.date(2018, 2, 28)]\n",
      "df[cols].shape: (3019, 263), x.shape: (3019, 29)\n",
      "[datetime.date(2018, 3, 30)]\n",
      "df[cols].shape: (3078, 263), x.shape: (3078, 29)\n",
      "[datetime.date(2018, 4, 27)]\n",
      "df[cols].shape: (3068, 263), x.shape: (3068, 29)\n",
      "[datetime.date(2018, 5, 31)]\n",
      "df[cols].shape: (3118, 263), x.shape: (3118, 29)\n",
      "[datetime.date(2018, 6, 29)]\n",
      "df[cols].shape: (3189, 263), x.shape: (3189, 29)\n",
      "[datetime.date(2018, 7, 31)]\n",
      "df[cols].shape: (3255, 263), x.shape: (3255, 29)\n",
      "[datetime.date(2018, 8, 31)]\n",
      "df[cols].shape: (3292, 263), x.shape: (3292, 29)\n",
      "[datetime.date(2018, 9, 28)]\n",
      "df[cols].shape: (3307, 263), x.shape: (3307, 29)\n",
      "[datetime.date(2018, 10, 31)]\n",
      "df[cols].shape: (3339, 263), x.shape: (3339, 29)\n",
      "[datetime.date(2018, 11, 30)]\n",
      "df[cols].shape: (3394, 263), x.shape: (3394, 29)\n",
      "[datetime.date(2018, 12, 28)]\n",
      "df[cols].shape: (3410, 263), x.shape: (3410, 29)\n",
      "[datetime.date(2019, 1, 31)]\n",
      "df[cols].shape: (3411, 263), x.shape: (3411, 29)\n",
      "[datetime.date(2019, 2, 28)]\n",
      "df[cols].shape: (3402, 263), x.shape: (3402, 29)\n",
      "[datetime.date(2019, 3, 29)]\n",
      "df[cols].shape: (3383, 263), x.shape: (3383, 29)\n",
      "[datetime.date(2019, 4, 30)]\n",
      "df[cols].shape: (3396, 263), x.shape: (3396, 29)\n",
      "[datetime.date(2019, 5, 31)]\n",
      "df[cols].shape: (3409, 263), x.shape: (3409, 29)\n",
      "[datetime.date(2019, 6, 28)]\n",
      "df[cols].shape: (3419, 263), x.shape: (3419, 29)\n",
      "[datetime.date(2019, 7, 31)]\n",
      "df[cols].shape: (3428, 263), x.shape: (3428, 29)\n",
      "[datetime.date(2019, 8, 30)]\n",
      "df[cols].shape: (3439, 263), x.shape: (3439, 29)\n",
      "[datetime.date(2019, 9, 30)]\n",
      "df[cols].shape: (3444, 263), x.shape: (3444, 29)\n",
      "[datetime.date(2019, 10, 31)]\n",
      "df[cols].shape: (3454, 263), x.shape: (3454, 29)\n",
      "[datetime.date(2019, 11, 29)]\n",
      "df[cols].shape: (3466, 263), x.shape: (3466, 29)\n",
      "[datetime.date(2019, 12, 31)]\n",
      "df[cols].shape: (3475, 263), x.shape: (3475, 29)\n",
      "[datetime.date(2020, 1, 23)]\n",
      "df[cols].shape: (3483, 263), x.shape: (3483, 29)\n",
      "[datetime.date(2020, 2, 28)]\n",
      "df[cols].shape: (3497, 263), x.shape: (3497, 29)\n",
      "[datetime.date(2020, 3, 31)]\n",
      "df[cols].shape: (3475, 263), x.shape: (3475, 29)\n",
      "[datetime.date(2020, 4, 30)]\n",
      "df[cols].shape: (3445, 263), x.shape: (3445, 29)\n",
      "[datetime.date(2020, 5, 29)]\n",
      "df[cols].shape: (3445, 263), x.shape: (3445, 29)\n",
      "[datetime.date(2020, 6, 30)]\n",
      "df[cols].shape: (3446, 263), x.shape: (3446, 29)\n",
      "[datetime.date(2020, 7, 31)]\n",
      "df[cols].shape: (3464, 263), x.shape: (3464, 29)\n",
      "(304771, 266)\n"
     ]
    }
   ],
   "source": [
    "# ## 进行neutrlization\n",
    "df = df.dropna(axis=0).drop_duplicates(subset=['date', 'code'], keep='first').set_index(['date', 'code'])\n",
    "df[f_cols] = df.groupby('date').apply(lambda x: neutralize_factor(x, f_cols, x['mv'], x['industry_code']))\n",
    "print(df.shape)"
   ]
  },
  {
   "cell_type": "code",
   "execution_count": 15,
   "metadata": {},
   "outputs": [
    {
     "name": "stdout",
     "output_type": "stream",
     "text": [
      "(304771, 268)\n"
     ]
    }
   ],
   "source": [
    "## parse extreme point and restrict data range\n",
    "df = df.reset_index().set_index(['date', 'code','industry_code']).groupby(['date', 'industry_code']).apply(\n",
    "    lambda x : filter_extreme_MAD(x)).reset_index()\n",
    "print(df.shape)"
   ]
  },
  {
   "cell_type": "code",
   "execution_count": 16,
   "metadata": {},
   "outputs": [
    {
     "name": "stdout",
     "output_type": "stream",
     "text": [
      "(304771, 266)\n"
     ]
    }
   ],
   "source": [
    "## standardization\n",
    "df = df.set_index(['date', 'code'])\n",
    "df[f_cols] = df[f_cols].groupby('date').apply(lambda x : QA_standardize_factor(x.unstack()))\n",
    "print(df.shape)"
   ]
  },
  {
   "cell_type": "code",
   "execution_count": 17,
   "metadata": {},
   "outputs": [],
   "source": [
    "## label for classfication\n",
    "df = df.reset_index(drop=False).groupby('date').apply(lambda x: label_data_by_n(x, 'rtn', ranks, drop=False))\n",
    "df = df.reset_index(drop=True).sort_values(by=['date', 'code'])\n",
    "df['label'] = 0\n",
    "df.loc[df['label_3']==0, 'label'] = -1\n",
    "df.loc[df['label_3']==2, 'label'] = 1\n",
    "df['label_01'] = None\n",
    "df.loc[df['label_3']==0, 'label_01'] = 0\n",
    "df.loc[df['label_3']==2, 'label_01'] = 1\n",
    "\n",
    "## rank_rtn for regression\n",
    "t = df.groupby('date')['rtn'].rank(pct=True)\n",
    "t -= 0.5\n",
    "t *= 3.46  # NOTE: towards unit std\n",
    "df['rank_rtn'] = t"
   ]
  },
  {
   "cell_type": "code",
   "execution_count": 18,
   "metadata": {},
   "outputs": [],
   "source": [
    "## merged\n",
    "info_df = pd.read_csv(data_dir+'info_df_1.csv', encoding='gbk', dtype={'code':str}, index_col=0, parse_dates=['date'])\n",
    "info_df = info_df.drop(['rtn'], axis=1)\n",
    "df = pd.merge(df, info_df, left_on=['date', 'code', 'industry_code'], \n",
    "              right_on=['date', 'code', 'industry_code'], how='left')"
   ]
  },
  {
   "cell_type": "code",
   "execution_count": 19,
   "metadata": {},
   "outputs": [
    {
     "name": "stdout",
     "output_type": "stream",
     "text": [
      "[Timestamp('2020-06-30 00:00:00'), Timestamp('2020-07-31 00:00:00')]\n",
      "(304771, 276)\n",
      "263\n"
     ]
    }
   ],
   "source": [
    "print(pd.to_datetime(df['date'].unique()).tolist()[-2:])\n",
    "print(df.shape)\n",
    "print(len(f_cols))"
   ]
  },
  {
   "cell_type": "code",
   "execution_count": 20,
   "metadata": {},
   "outputs": [
    {
     "name": "stderr",
     "output_type": "stream",
     "text": [
      "/opt/conda/lib/python3.8/site-packages/seaborn/distributions.py:2557: FutureWarning: `distplot` is a deprecated function and will be removed in a future version. Please adapt your code to use either `displot` (a figure-level function with similar flexibility) or `histplot` (an axes-level function for histograms).\n",
      "  warnings.warn(msg, FutureWarning)\n"
     ]
    },
    {
     "data": {
      "text/plain": [
       "count    304771.000000\n",
       "mean          0.000710\n",
       "std           0.998816\n",
       "min          -1.729011\n",
       "25%          -0.864243\n",
       "50%           0.000801\n",
       "75%           0.865518\n",
       "max           1.730000\n",
       "Name: rank_rtn, dtype: float64"
      ]
     },
     "execution_count": 20,
     "metadata": {},
     "output_type": "execute_result"
    },
    {
     "name": "stderr",
     "output_type": "stream",
     "text": [
      "QUANTAXIS>> findfont: Font family ['sans-serif'] not found. Falling back to DejaVu Sans.\n",
      "QUANTAXIS>> findfont: Font family ['sans-serif'] not found. Falling back to DejaVu Sans.\n"
     ]
    },
    {
     "data": {
      "image/png": "[encoded data removed]",
      "text/plain": [
       "<Figure size 432x288 with 1 Axes>"
      ]
     },
     "metadata": {},
     "output_type": "display_data"
    }
   ],
   "source": [
    "import seaborn as sns\n",
    "sns.distplot(df['rank_rtn'])\n",
    "df['rank_rtn'].describe()"
   ]
  }
 ],
 "metadata": {
  "kernelspec": {
   "display_name": "Python 3 (ipykernel)",
   "language": "python",
   "name": "python3"
  },
  "language_info": {
   "codemirror_mode": {
    "name": "ipython",
    "version": 3
   },
   "file_extension": ".py",
   "mimetype": "text/x-python",
   "name": "python",
   "nbconvert_exporter": "python",
   "pygments_lexer": "ipython3",
   "version": "3.8.8"
  }
 },
 "nbformat": 4,
 "nbformat_minor": 4
}
